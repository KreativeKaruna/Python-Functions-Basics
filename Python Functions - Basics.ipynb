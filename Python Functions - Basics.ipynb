{
 "cells": [
  {
   "cell_type": "markdown",
   "id": "791674c8",
   "metadata": {},
   "source": [
    "#### Funtions\n",
    "Functions are block of code(Multiple statements), it just creates, doesn't returns the output until the function name is called.\n",
    "    \n",
    "    Syntax is\n",
    "    def keyword function definition\n",
    "    def functionname():\n",
    "    \n",
    "    statements "
   ]
  },
  {
   "cell_type": "markdown",
   "id": "58f09769",
   "metadata": {},
   "source": [
    "Following are some basic functions:"
   ]
  },
  {
   "cell_type": "code",
   "execution_count": 1,
   "id": "2f3db4ab",
   "metadata": {},
   "outputs": [],
   "source": [
    "def add(x,y):\n",
    "    return x+y"
   ]
  },
  {
   "cell_type": "code",
   "execution_count": 2,
   "id": "44b1d73e",
   "metadata": {},
   "outputs": [
    {
     "data": {
      "text/plain": [
       "7"
      ]
     },
     "execution_count": 2,
     "metadata": {},
     "output_type": "execute_result"
    }
   ],
   "source": [
    "add(2,5)"
   ]
  },
  {
   "cell_type": "code",
   "execution_count": 3,
   "id": "27bdb21a",
   "metadata": {},
   "outputs": [],
   "source": [
    "def diff(x,y):\n",
    "    return x-y"
   ]
  },
  {
   "cell_type": "code",
   "execution_count": 4,
   "id": "26f6133c",
   "metadata": {},
   "outputs": [
    {
     "data": {
      "text/plain": [
       "6"
      ]
     },
     "execution_count": 4,
     "metadata": {},
     "output_type": "execute_result"
    }
   ],
   "source": [
    "diff(9,3)"
   ]
  },
  {
   "cell_type": "code",
   "execution_count": 5,
   "id": "f0525634",
   "metadata": {},
   "outputs": [],
   "source": [
    "def prod(x,y):\n",
    "    return x*y"
   ]
  },
  {
   "cell_type": "code",
   "execution_count": 6,
   "id": "1870db45",
   "metadata": {},
   "outputs": [
    {
     "data": {
      "text/plain": [
       "21"
      ]
     },
     "execution_count": 6,
     "metadata": {},
     "output_type": "execute_result"
    }
   ],
   "source": [
    "prod(7,3)"
   ]
  },
  {
   "cell_type": "code",
   "execution_count": 7,
   "id": "16dcf6a8",
   "metadata": {},
   "outputs": [],
   "source": [
    "def div(x,y):\n",
    "    return x/y"
   ]
  },
  {
   "cell_type": "code",
   "execution_count": 8,
   "id": "98bdaac9",
   "metadata": {},
   "outputs": [
    {
     "data": {
      "text/plain": [
       "3.0"
      ]
     },
     "execution_count": 8,
     "metadata": {},
     "output_type": "execute_result"
    }
   ],
   "source": [
    "div(15,5)"
   ]
  },
  {
   "cell_type": "code",
   "execution_count": 9,
   "id": "04517b93",
   "metadata": {},
   "outputs": [],
   "source": [
    "def sq(x):\n",
    "    return(x*x)"
   ]
  },
  {
   "cell_type": "code",
   "execution_count": 10,
   "id": "bf4193da",
   "metadata": {},
   "outputs": [
    {
     "data": {
      "text/plain": [
       "81"
      ]
     },
     "execution_count": 10,
     "metadata": {},
     "output_type": "execute_result"
    }
   ],
   "source": [
    "sq(9)"
   ]
  },
  {
   "cell_type": "code",
   "execution_count": 11,
   "id": "43d54c5d",
   "metadata": {},
   "outputs": [],
   "source": [
    "def oddeven(n):\n",
    "        if n%2==0:\n",
    "            print(\"{} is even number\".format(n))\n",
    "        else:\n",
    "                  print(\"{} is odd number\".format(n))"
   ]
  },
  {
   "cell_type": "code",
   "execution_count": 12,
   "id": "6b236772",
   "metadata": {},
   "outputs": [
    {
     "name": "stdout",
     "output_type": "stream",
     "text": [
      "5 is odd number\n"
     ]
    }
   ],
   "source": [
    "oddeven(5)"
   ]
  },
  {
   "cell_type": "code",
   "execution_count": 13,
   "id": "37ea5d32",
   "metadata": {},
   "outputs": [],
   "source": [
    "def Intro (name, city):\n",
    "    print(\"Hello, my name is {}, I am from {}.\".format(name, city))"
   ]
  },
  {
   "cell_type": "code",
   "execution_count": 14,
   "id": "d05f4e1a",
   "metadata": {},
   "outputs": [
    {
     "name": "stdout",
     "output_type": "stream",
     "text": [
      "Hello, my name is Karuna, I am from Mumbai.\n"
     ]
    }
   ],
   "source": [
    "Intro('Karuna', 'Mumbai')"
   ]
  },
  {
   "cell_type": "code",
   "execution_count": 18,
   "id": "ce6801fc",
   "metadata": {},
   "outputs": [
    {
     "name": "stdout",
     "output_type": "stream",
     "text": [
      "enter number3\n",
      "6\n"
     ]
    }
   ],
   "source": [
    "def factorial(n) -> object:\n",
    "    return 1 if (n==1 or n==0) else n * factorial(n-1)\n",
    "n= int(input(\"enter number\"))\n",
    "print(factorial(n))"
   ]
  },
  {
   "cell_type": "code",
   "execution_count": null,
   "id": "106da0e6",
   "metadata": {},
   "outputs": [],
   "source": []
  },
  {
   "cell_type": "code",
   "execution_count": null,
   "id": "254225f5",
   "metadata": {},
   "outputs": [],
   "source": []
  }
 ],
 "metadata": {
  "kernelspec": {
   "display_name": "Python 3",
   "language": "python",
   "name": "python3"
  },
  "language_info": {
   "codemirror_mode": {
    "name": "ipython",
    "version": 3
   },
   "file_extension": ".py",
   "mimetype": "text/x-python",
   "name": "python",
   "nbconvert_exporter": "python",
   "pygments_lexer": "ipython3",
   "version": "3.8.5"
  }
 },
 "nbformat": 4,
 "nbformat_minor": 5
}
